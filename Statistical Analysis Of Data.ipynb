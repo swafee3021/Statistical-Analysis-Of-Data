{
 "cells": [
  {
   "cell_type": "markdown",
   "id": "46fdcdda",
   "metadata": {},
   "source": [
    "#                                 Statistics Mini Project"
   ]
  },
  {
   "cell_type": "markdown",
   "id": "a9815b4c",
   "metadata": {},
   "source": [
    "# Import the required libraries"
   ]
  },
  {
   "cell_type": "code",
   "execution_count": 1,
   "id": "5780dc25",
   "metadata": {},
   "outputs": [],
   "source": [
    "import numpy as np\n",
    "import pandas as pd\n",
    "import matplotlib.pyplot as plt\n",
    "%matplotlib inline\n",
    "import warnings\n",
    "import seaborn as sns\n",
    "warnings.filterwarnings('ignore')\n",
    "import scipy.stats as stats\n",
    "import random\n",
    "from scipy.stats import ttest_1samp\n",
    "from scipy.stats import ttest_ind,ttest_1samp,ttest_rel\n",
    "from statsmodels.stats.proportion import proportions_ztest\n",
    "from scipy.stats import chi2_contingency,chisquare\n",
    "from scipy.stats import f_oneway\n",
    "from   statsmodels.formula.api import ols\n",
    "from   statsmodels.stats.anova import anova_lm\n",
    "from scipy.stats import shapiro\n",
    "from scipy.stats import levene\n",
    "from scipy.stats import f_oneway"
   ]
  },
  {
   "cell_type": "markdown",
   "id": "a9480db5",
   "metadata": {},
   "source": [
    "1. Perform the following statistical analysis on the fifa world cup dataset. The dataset consists of player information, which includes height; weight overall rating, potential etc. Data Cleaning and basic EDA process needs to be performed. "
   ]
  },
  {
   "cell_type": "code",
   "execution_count": 424,
   "id": "6d36a47b",
   "metadata": {},
   "outputs": [
    {
     "data": {
      "text/html": [
       "<div>\n",
       "<style scoped>\n",
       "    .dataframe tbody tr th:only-of-type {\n",
       "        vertical-align: middle;\n",
       "    }\n",
       "\n",
       "    .dataframe tbody tr th {\n",
       "        vertical-align: top;\n",
       "    }\n",
       "\n",
       "    .dataframe thead th {\n",
       "        text-align: right;\n",
       "    }\n",
       "</style>\n",
       "<table border=\"1\" class=\"dataframe\">\n",
       "  <thead>\n",
       "    <tr style=\"text-align: right;\">\n",
       "      <th></th>\n",
       "      <th>Name</th>\n",
       "      <th>Age</th>\n",
       "      <th>Nationality</th>\n",
       "      <th>Overall_rating</th>\n",
       "      <th>Potential</th>\n",
       "      <th>Club</th>\n",
       "      <th>Preferred Foot</th>\n",
       "      <th>International Reputation</th>\n",
       "      <th>Weak Foot</th>\n",
       "      <th>Skill Moves</th>\n",
       "      <th>Work Rate</th>\n",
       "      <th>Position</th>\n",
       "      <th>Jersey Number</th>\n",
       "      <th>Height</th>\n",
       "      <th>Weight</th>\n",
       "    </tr>\n",
       "  </thead>\n",
       "  <tbody>\n",
       "    <tr>\n",
       "      <th>0</th>\n",
       "      <td>L. Messi</td>\n",
       "      <td>31</td>\n",
       "      <td>Argentina</td>\n",
       "      <td>94</td>\n",
       "      <td>94</td>\n",
       "      <td>FC Barcelona</td>\n",
       "      <td>Left</td>\n",
       "      <td>5</td>\n",
       "      <td>4</td>\n",
       "      <td>4</td>\n",
       "      <td>Medium/ Medium</td>\n",
       "      <td>RF</td>\n",
       "      <td>10</td>\n",
       "      <td>5.583333</td>\n",
       "      <td>159</td>\n",
       "    </tr>\n",
       "    <tr>\n",
       "      <th>1</th>\n",
       "      <td>Cristiano Ronaldo</td>\n",
       "      <td>33</td>\n",
       "      <td>Portugal</td>\n",
       "      <td>94</td>\n",
       "      <td>94</td>\n",
       "      <td>Juventus</td>\n",
       "      <td>Right</td>\n",
       "      <td>5</td>\n",
       "      <td>4</td>\n",
       "      <td>5</td>\n",
       "      <td>High/ Low</td>\n",
       "      <td>ST</td>\n",
       "      <td>7</td>\n",
       "      <td>6.166667</td>\n",
       "      <td>183</td>\n",
       "    </tr>\n",
       "    <tr>\n",
       "      <th>2</th>\n",
       "      <td>Neymar Jr</td>\n",
       "      <td>26</td>\n",
       "      <td>Brazil</td>\n",
       "      <td>92</td>\n",
       "      <td>93</td>\n",
       "      <td>Paris Saint-Germain</td>\n",
       "      <td>Right</td>\n",
       "      <td>5</td>\n",
       "      <td>5</td>\n",
       "      <td>5</td>\n",
       "      <td>High/ Medium</td>\n",
       "      <td>LW</td>\n",
       "      <td>10</td>\n",
       "      <td>5.750000</td>\n",
       "      <td>150</td>\n",
       "    </tr>\n",
       "    <tr>\n",
       "      <th>3</th>\n",
       "      <td>De Gea</td>\n",
       "      <td>27</td>\n",
       "      <td>Spain</td>\n",
       "      <td>91</td>\n",
       "      <td>93</td>\n",
       "      <td>Manchester United</td>\n",
       "      <td>Right</td>\n",
       "      <td>4</td>\n",
       "      <td>3</td>\n",
       "      <td>1</td>\n",
       "      <td>Medium/ Medium</td>\n",
       "      <td>GK</td>\n",
       "      <td>1</td>\n",
       "      <td>6.333333</td>\n",
       "      <td>168</td>\n",
       "    </tr>\n",
       "    <tr>\n",
       "      <th>4</th>\n",
       "      <td>K. De Bruyne</td>\n",
       "      <td>27</td>\n",
       "      <td>Belgium</td>\n",
       "      <td>91</td>\n",
       "      <td>92</td>\n",
       "      <td>Manchester City</td>\n",
       "      <td>Right</td>\n",
       "      <td>4</td>\n",
       "      <td>5</td>\n",
       "      <td>4</td>\n",
       "      <td>High/ High</td>\n",
       "      <td>RCM</td>\n",
       "      <td>7</td>\n",
       "      <td>5.083333</td>\n",
       "      <td>154</td>\n",
       "    </tr>\n",
       "  </tbody>\n",
       "</table>\n",
       "</div>"
      ],
      "text/plain": [
       "                Name  Age Nationality  Overall_rating  Potential  \\\n",
       "0           L. Messi   31   Argentina              94         94   \n",
       "1  Cristiano Ronaldo   33    Portugal              94         94   \n",
       "2          Neymar Jr   26      Brazil              92         93   \n",
       "3             De Gea   27       Spain              91         93   \n",
       "4       K. De Bruyne   27     Belgium              91         92   \n",
       "\n",
       "                  Club Preferred Foot  International Reputation  Weak Foot  \\\n",
       "0         FC Barcelona           Left                         5          4   \n",
       "1             Juventus          Right                         5          4   \n",
       "2  Paris Saint-Germain          Right                         5          5   \n",
       "3    Manchester United          Right                         4          3   \n",
       "4      Manchester City          Right                         4          5   \n",
       "\n",
       "   Skill Moves       Work Rate Position  Jersey Number    Height  Weight  \n",
       "0            4  Medium/ Medium       RF             10  5.583333     159  \n",
       "1            5       High/ Low       ST              7  6.166667     183  \n",
       "2            5    High/ Medium       LW             10  5.750000     150  \n",
       "3            1  Medium/ Medium       GK              1  6.333333     168  \n",
       "4            4      High/ High      RCM              7  5.083333     154  "
      ]
     },
     "execution_count": 424,
     "metadata": {},
     "output_type": "execute_result"
    }
   ],
   "source": [
    "fifa=pd.read_csv('fifa_stats.csv')\n",
    "fifa.head()"
   ]
  },
  {
   "cell_type": "code",
   "execution_count": 427,
   "id": "0d545909",
   "metadata": {},
   "outputs": [
    {
     "data": {
      "text/html": [
       "<div>\n",
       "<style scoped>\n",
       "    .dataframe tbody tr th:only-of-type {\n",
       "        vertical-align: middle;\n",
       "    }\n",
       "\n",
       "    .dataframe tbody tr th {\n",
       "        vertical-align: top;\n",
       "    }\n",
       "\n",
       "    .dataframe thead th {\n",
       "        text-align: right;\n",
       "    }\n",
       "</style>\n",
       "<table border=\"1\" class=\"dataframe\">\n",
       "  <thead>\n",
       "    <tr style=\"text-align: right;\">\n",
       "      <th></th>\n",
       "      <th>Name</th>\n",
       "      <th>Age</th>\n",
       "      <th>Overall_rating</th>\n",
       "      <th>Potential</th>\n",
       "      <th>Preferred Foot</th>\n",
       "      <th>Skill Moves</th>\n",
       "    </tr>\n",
       "  </thead>\n",
       "  <tbody>\n",
       "    <tr>\n",
       "      <th>0</th>\n",
       "      <td>L. Messi</td>\n",
       "      <td>31</td>\n",
       "      <td>94</td>\n",
       "      <td>94</td>\n",
       "      <td>Left</td>\n",
       "      <td>4</td>\n",
       "    </tr>\n",
       "    <tr>\n",
       "      <th>1</th>\n",
       "      <td>Cristiano Ronaldo</td>\n",
       "      <td>33</td>\n",
       "      <td>94</td>\n",
       "      <td>94</td>\n",
       "      <td>Right</td>\n",
       "      <td>5</td>\n",
       "    </tr>\n",
       "    <tr>\n",
       "      <th>2</th>\n",
       "      <td>Neymar Jr</td>\n",
       "      <td>26</td>\n",
       "      <td>92</td>\n",
       "      <td>93</td>\n",
       "      <td>Right</td>\n",
       "      <td>5</td>\n",
       "    </tr>\n",
       "    <tr>\n",
       "      <th>3</th>\n",
       "      <td>De Gea</td>\n",
       "      <td>27</td>\n",
       "      <td>91</td>\n",
       "      <td>93</td>\n",
       "      <td>Right</td>\n",
       "      <td>1</td>\n",
       "    </tr>\n",
       "    <tr>\n",
       "      <th>4</th>\n",
       "      <td>K. De Bruyne</td>\n",
       "      <td>27</td>\n",
       "      <td>91</td>\n",
       "      <td>92</td>\n",
       "      <td>Right</td>\n",
       "      <td>4</td>\n",
       "    </tr>\n",
       "    <tr>\n",
       "      <th>...</th>\n",
       "      <td>...</td>\n",
       "      <td>...</td>\n",
       "      <td>...</td>\n",
       "      <td>...</td>\n",
       "      <td>...</td>\n",
       "      <td>...</td>\n",
       "    </tr>\n",
       "    <tr>\n",
       "      <th>1995</th>\n",
       "      <td>R. BorrÃ©</td>\n",
       "      <td>22</td>\n",
       "      <td>75</td>\n",
       "      <td>82</td>\n",
       "      <td>Right</td>\n",
       "      <td>4</td>\n",
       "    </tr>\n",
       "    <tr>\n",
       "      <th>1996</th>\n",
       "      <td>E. ZukanoviÄ‡</td>\n",
       "      <td>31</td>\n",
       "      <td>75</td>\n",
       "      <td>75</td>\n",
       "      <td>Left</td>\n",
       "      <td>2</td>\n",
       "    </tr>\n",
       "    <tr>\n",
       "      <th>1997</th>\n",
       "      <td>A. Elis</td>\n",
       "      <td>22</td>\n",
       "      <td>75</td>\n",
       "      <td>82</td>\n",
       "      <td>Right</td>\n",
       "      <td>4</td>\n",
       "    </tr>\n",
       "    <tr>\n",
       "      <th>1998</th>\n",
       "      <td>M. FernÃ¡ndez</td>\n",
       "      <td>32</td>\n",
       "      <td>75</td>\n",
       "      <td>75</td>\n",
       "      <td>Right</td>\n",
       "      <td>5</td>\n",
       "    </tr>\n",
       "    <tr>\n",
       "      <th>1999</th>\n",
       "      <td>D. RodrÃ­guez</td>\n",
       "      <td>28</td>\n",
       "      <td>75</td>\n",
       "      <td>75</td>\n",
       "      <td>Right</td>\n",
       "      <td>2</td>\n",
       "    </tr>\n",
       "  </tbody>\n",
       "</table>\n",
       "<p>2000 rows × 6 columns</p>\n",
       "</div>"
      ],
      "text/plain": [
       "                   Name  Age  Overall_rating  Potential Preferred Foot  \\\n",
       "0              L. Messi   31              94         94           Left   \n",
       "1     Cristiano Ronaldo   33              94         94          Right   \n",
       "2             Neymar Jr   26              92         93          Right   \n",
       "3                De Gea   27              91         93          Right   \n",
       "4          K. De Bruyne   27              91         92          Right   \n",
       "...                 ...  ...             ...        ...            ...   \n",
       "1995          R. BorrÃ©   22              75         82          Right   \n",
       "1996      E. ZukanoviÄ‡   31              75         75           Left   \n",
       "1997            A. Elis   22              75         82          Right   \n",
       "1998      M. FernÃ¡ndez   32              75         75          Right   \n",
       "1999      D. RodrÃ­guez   28              75         75          Right   \n",
       "\n",
       "      Skill Moves  \n",
       "0               4  \n",
       "1               5  \n",
       "2               5  \n",
       "3               1  \n",
       "4               4  \n",
       "...           ...  \n",
       "1995            4  \n",
       "1996            2  \n",
       "1997            4  \n",
       "1998            5  \n",
       "1999            2  \n",
       "\n",
       "[2000 rows x 6 columns]"
      ]
     },
     "execution_count": 427,
     "metadata": {},
     "output_type": "execute_result"
    }
   ],
   "source": [
    "df=fifa[['Name','Age','Overall_rating','Potential','Preferred Foot','Skill Moves']]\n",
    "df"
   ]
  },
  {
   "cell_type": "code",
   "execution_count": 30,
   "id": "2c5bff9a",
   "metadata": {},
   "outputs": [
    {
     "data": {
      "text/plain": [
       "Name              0\n",
       "Age               0\n",
       "Overall_rating    0\n",
       "Potential         0\n",
       "Preferred Foot    0\n",
       "Skill Moves       0\n",
       "dtype: int64"
      ]
     },
     "execution_count": 30,
     "metadata": {},
     "output_type": "execute_result"
    }
   ],
   "source": [
    "df.isnull().sum()"
   ]
  },
  {
   "cell_type": "markdown",
   "id": "6167a20d",
   "metadata": {},
   "source": [
    "# a)\tAssuming age as population, perform the central limit theorem with sample size of 200. Find the standard error and the mean of sampling distribution. Compare the results with population mean and standard deviation. Explain in non-technical terms why the estimated standard error of a sample mean tends to decrease with an increase in sample size"
   ]
  },
  {
   "cell_type": "code",
   "execution_count": 131,
   "id": "d9430432",
   "metadata": {},
   "outputs": [
    {
     "data": {
      "text/plain": [
       "0       31\n",
       "1       33\n",
       "2       26\n",
       "3       27\n",
       "4       27\n",
       "        ..\n",
       "1995    22\n",
       "1996    31\n",
       "1997    22\n",
       "1998    32\n",
       "1999    28\n",
       "Name: Age, Length: 2000, dtype: int64"
      ]
     },
     "execution_count": 131,
     "metadata": {},
     "output_type": "execute_result"
    }
   ],
   "source": [
    "df1=df['Age']\n",
    "df1"
   ]
  },
  {
   "cell_type": "code",
   "execution_count": 132,
   "id": "d2359d63",
   "metadata": {},
   "outputs": [
    {
     "data": {
      "text/plain": [
       "(27.2315, 3.8590612753574423)"
      ]
     },
     "execution_count": 132,
     "metadata": {},
     "output_type": "execute_result"
    }
   ],
   "source": [
    "np.mean(df1),np.std(df1,ddof=1)#POPULATION MEAN AND POPULATION STD"
   ]
  },
  {
   "cell_type": "code",
   "execution_count": 134,
   "id": "c9301276",
   "metadata": {},
   "outputs": [
    {
     "data": {
      "text/plain": [
       "ShapiroResult(statistic=0.9883174300193787, pvalue=1.1409696104580647e-11)"
      ]
     },
     "execution_count": 134,
     "metadata": {},
     "output_type": "execute_result"
    }
   ],
   "source": [
    "shapiro(df1)"
   ]
  },
  {
   "cell_type": "code",
   "execution_count": 187,
   "id": "c74675a7",
   "metadata": {},
   "outputs": [],
   "source": [
    "samp=[]# From the total population pull only 200 random samples from the fifa.csv\n",
    "for i in np.arange(200):\n",
    "    samp.append(random.choice(df1))"
   ]
  },
  {
   "cell_type": "code",
   "execution_count": 137,
   "id": "f5223e0c",
   "metadata": {},
   "outputs": [
    {
     "data": {
      "text/plain": [
       "200"
      ]
     },
     "execution_count": 137,
     "metadata": {},
     "output_type": "execute_result"
    }
   ],
   "source": [
    "len(samp)"
   ]
  },
  {
   "cell_type": "code",
   "execution_count": 138,
   "id": "86e5d10a",
   "metadata": {},
   "outputs": [
    {
     "data": {
      "text/plain": [
       "ShapiroResult(statistic=0.9811950325965881, pvalue=0.00881111528724432)"
      ]
     },
     "execution_count": 138,
     "metadata": {},
     "output_type": "execute_result"
    }
   ],
   "source": [
    "shapiro(samp)#To check the normality for the age variable \n",
    "#Since the pvalue(0.006) is less than 0.05,it proves that this is not normally distributed"
   ]
  },
  {
   "cell_type": "code",
   "execution_count": 188,
   "id": "144679b1",
   "metadata": {},
   "outputs": [
    {
     "data": {
      "image/png": "[encoded data removed]",
      "text/plain": [
       "<Figure size 432x288 with 1 Axes>"
      ]
     },
     "metadata": {
      "needs_background": "light"
     },
     "output_type": "display_data"
    }
   ],
   "source": [
    "sns.kdeplot(samp)\n",
    "plt.show()#for inference "
   ]
  },
  {
   "cell_type": "code",
   "execution_count": 189,
   "id": "881f8245",
   "metadata": {},
   "outputs": [
    {
     "data": {
      "text/plain": [
       "0    0.158935\n",
       "dtype: float64"
      ]
     },
     "execution_count": 189,
     "metadata": {},
     "output_type": "execute_result"
    }
   ],
   "source": [
    "pd.DataFrame(samp).skew()#It is right skewness but negligible"
   ]
  },
  {
   "cell_type": "code",
   "execution_count": 163,
   "id": "b549b739",
   "metadata": {},
   "outputs": [
    {
     "data": {
      "text/plain": [
       "(27.4, 3.8475992645417887)"
      ]
     },
     "execution_count": 163,
     "metadata": {},
     "output_type": "execute_result"
    }
   ],
   "source": [
    "np.mean(samp),np.std(samp,ddof=1)# the mean and std of the 200 samples"
   ]
  },
  {
   "cell_type": "code",
   "execution_count": 164,
   "id": "1200f3e8",
   "metadata": {},
   "outputs": [
    {
     "data": {
      "text/plain": [
       "0.27206635312458716"
      ]
     },
     "execution_count": 164,
     "metadata": {},
     "output_type": "execute_result"
    }
   ],
   "source": [
    "SE=3.8475992645417887/np.sqrt(200)#Standard error of the 200samples\n",
    "SE"
   ]
  },
  {
   "cell_type": "code",
   "execution_count": 165,
   "id": "95d10bba",
   "metadata": {},
   "outputs": [
    {
     "data": {
      "text/plain": [
       "[26.53174994787581, 27.598250052124193]"
      ]
     },
     "execution_count": 165,
     "metadata": {},
     "output_type": "execute_result"
    }
   ],
   "source": [
    "[27.065-1.96*0.27206635312458716,27.065+1.96*0.27206635312458716]#Calculate for 95% CI range"
   ]
  },
  {
   "cell_type": "markdown",
   "id": "a231e234",
   "metadata": {},
   "source": [
    "The sample mean is 27 and the sample Standard deviation of the age is 3.84.Based on the given 200 sample,the population mean lies between 26 to 27.Standard error decreases when sample size increases – as the sample size gets closer to the true size of the population, the sample means cluster more and more around the true population mean."
   ]
  },
  {
   "cell_type": "markdown",
   "id": "8f88573c",
   "metadata": {},
   "source": [
    "# b)Is there any evidence that the players overall rating is greater than 80?"
   ]
  },
  {
   "cell_type": "code",
   "execution_count": 166,
   "id": "202d0a97",
   "metadata": {},
   "outputs": [
    {
     "data": {
      "text/plain": [
       "0       94\n",
       "1       94\n",
       "2       92\n",
       "3       91\n",
       "4       91\n",
       "        ..\n",
       "1995    75\n",
       "1996    75\n",
       "1997    75\n",
       "1998    75\n",
       "1999    75\n",
       "Name: Overall_rating, Length: 2000, dtype: int64"
      ]
     },
     "execution_count": 166,
     "metadata": {},
     "output_type": "execute_result"
    }
   ],
   "source": [
    "df2=df['Overall_rating']\n",
    "df2"
   ]
  },
  {
   "cell_type": "code",
   "execution_count": 167,
   "id": "e4d9da39",
   "metadata": {},
   "outputs": [
    {
     "data": {
      "text/plain": [
       "ShapiroResult(statistic=0.8525537848472595, pvalue=1.0221183102662362e-39)"
      ]
     },
     "execution_count": 167,
     "metadata": {},
     "output_type": "execute_result"
    }
   ],
   "source": [
    "shapiro(df2)"
   ]
  },
  {
   "cell_type": "code",
   "execution_count": 168,
   "id": "48325b24",
   "metadata": {},
   "outputs": [
    {
     "data": {
      "text/plain": [
       "(78.197, 3.2859686235411525)"
      ]
     },
     "execution_count": 168,
     "metadata": {},
     "output_type": "execute_result"
    }
   ],
   "source": [
    "np.mean(df2),np.std(df2,ddof=1)"
   ]
  },
  {
   "cell_type": "markdown",
   "id": "af48caf8",
   "metadata": {},
   "source": [
    "The null and alternative hypothesis is:\n",
    "H0:<= than 80\n",
    "Ha:> 80"
   ]
  },
  {
   "cell_type": "code",
   "execution_count": 175,
   "id": "78bb4f56",
   "metadata": {},
   "outputs": [],
   "source": [
    "samp1=[]# From the total population pull only 200 random samples from the fifa.csv\n",
    "for i in np.arange(200):\n",
    "    samp1.append(random.choice(df2))"
   ]
  },
  {
   "cell_type": "code",
   "execution_count": 176,
   "id": "17037bb2",
   "metadata": {},
   "outputs": [
    {
     "data": {
      "text/plain": [
       "200"
      ]
     },
     "execution_count": 176,
     "metadata": {},
     "output_type": "execute_result"
    }
   ],
   "source": [
    "len(samp1)"
   ]
  },
  {
   "cell_type": "code",
   "execution_count": 177,
   "id": "e387258a",
   "metadata": {},
   "outputs": [
    {
     "data": {
      "text/plain": [
       "ShapiroResult(statistic=0.862538754940033, pvalue=1.821722894063127e-12)"
      ]
     },
     "execution_count": 177,
     "metadata": {},
     "output_type": "execute_result"
    }
   ],
   "source": [
    "shapiro(samp1)#To check the normality for the age variable \n",
    "#Since the pvalue(10 power 12) is less than 0.05,it proves that this is not normally distributed"
   ]
  },
  {
   "cell_type": "code",
   "execution_count": 190,
   "id": "dcf33b1b",
   "metadata": {},
   "outputs": [
    {
     "data": {
      "image/png": "[encoded data removed]",
      "text/plain": [
       "<Figure size 432x288 with 1 Axes>"
      ]
     },
     "metadata": {
      "needs_background": "light"
     },
     "output_type": "display_data"
    }
   ],
   "source": [
    "sns.kdeplot(samp1)\n",
    "plt.show()"
   ]
  },
  {
   "cell_type": "code",
   "execution_count": 179,
   "id": "e37dc3bb",
   "metadata": {},
   "outputs": [
    {
     "data": {
      "text/plain": [
       "0    1.191671\n",
       "dtype: float64"
      ]
     },
     "execution_count": 179,
     "metadata": {},
     "output_type": "execute_result"
    }
   ],
   "source": [
    "pd.DataFrame(samp1).skew()#RIGHT SKEWED"
   ]
  },
  {
   "cell_type": "code",
   "execution_count": 192,
   "id": "a1f7045d",
   "metadata": {},
   "outputs": [
    {
     "data": {
      "text/plain": [
       "(77.98, 3.0357335838244763)"
      ]
     },
     "execution_count": 192,
     "metadata": {},
     "output_type": "execute_result"
    }
   ],
   "source": [
    "np.mean(samp1),np.std(samp1,ddof=1)# the mean and std of the 200 samples"
   ]
  },
  {
   "cell_type": "code",
   "execution_count": 193,
   "id": "4bb33ca9",
   "metadata": {},
   "outputs": [
    {
     "data": {
      "text/plain": [
       "0.21465878029980276"
      ]
     },
     "execution_count": 193,
     "metadata": {},
     "output_type": "execute_result"
    }
   ],
   "source": [
    "SE=3.0357335838244763/np.sqrt(200)#Standard error of the 200samples\n",
    "SE"
   ]
  },
  {
   "cell_type": "code",
   "execution_count": 194,
   "id": "bf22ff41",
   "metadata": {},
   "outputs": [
    {
     "data": {
      "text/plain": [
       "[77.55926879061239, 78.40073120938762]"
      ]
     },
     "execution_count": 194,
     "metadata": {},
     "output_type": "execute_result"
    }
   ],
   "source": [
    "[77.98-1.96*0.21465878029980276,77.98+1.96*0.21465878029980276]#Calculate for 95% CI range"
   ]
  },
  {
   "cell_type": "markdown",
   "id": "b782d69e",
   "metadata": {},
   "source": [
    "Baseed on the given sample ,the population mean of the overall_rating lies between the range 77 to 78.Hence, it accept the null hypothesis as the players overall rating is not greater than 80."
   ]
  },
  {
   "cell_type": "markdown",
   "id": "6654c46c",
   "metadata": {},
   "source": [
    "# c)Perform the statistical test to identify whether preferred foot has any impact on potential. Also, perform the graphical analysis."
   ]
  },
  {
   "cell_type": "markdown",
   "id": "1913d58a",
   "metadata": {},
   "source": [
    "The null and alternative hypothesis is:\n",
    "H0: preferred foot has impact on potential\n",
    "Ha: preferred foot has not impact on potential"
   ]
  },
  {
   "cell_type": "code",
   "execution_count": 202,
   "id": "8517a5ad",
   "metadata": {},
   "outputs": [],
   "source": [
    "G1 = df['Potential'][df['Preferred Foot']=='Left']\n",
    "G2 = df['Potential'][df['Preferred Foot']=='Right']"
   ]
  },
  {
   "cell_type": "code",
   "execution_count": 203,
   "id": "c6ce28c3",
   "metadata": {},
   "outputs": [
    {
     "data": {
      "text/plain": [
       "Ttest_indResult(statistic=1.5378037422592814, pvalue=0.12425494914461453)"
      ]
     },
     "execution_count": 203,
     "metadata": {},
     "output_type": "execute_result"
    }
   ],
   "source": [
    "stats.ttest_ind(G1,G2)"
   ]
  },
  {
   "cell_type": "code",
   "execution_count": null,
   "id": "fdd7accd",
   "metadata": {},
   "outputs": [],
   "source": [
    "we cannot reject null hypothesis as the pvalue is more than 0.05.Hence we prove that the prefreed foot is depends on potential"
   ]
  },
  {
   "cell_type": "code",
   "execution_count": 211,
   "id": "3d55a48f",
   "metadata": {},
   "outputs": [
    {
     "data": {
      "image/png": "[encoded data removed]",
      "text/plain": [
       "<Figure size 432x288 with 1 Axes>"
      ]
     },
     "metadata": {
      "needs_background": "light"
     },
     "output_type": "display_data"
    }
   ],
   "source": [
    "sns.boxplot(df['Preferred Foot'],df['Potential'])\n",
    "plt.show()"
   ]
  },
  {
   "cell_type": "markdown",
   "id": "4cf4a132",
   "metadata": {},
   "source": [
    "# d)Perform the statistical test to identify the relation between the overall rating and potential. [Assume both are continuous data points]."
   ]
  },
  {
   "cell_type": "markdown",
   "id": "42b110cd",
   "metadata": {},
   "source": [
    "The null and alternative hypothesis is:\n",
    "H0: Have relation between the overall rating and potential\n",
    "Ha: Have no relation between the overall rating and potential"
   ]
  },
  {
   "cell_type": "code",
   "execution_count": 429,
   "id": "924b874f",
   "metadata": {},
   "outputs": [],
   "source": [
    "df3=(df['Overall_rating'],df['Potential'])"
   ]
  },
  {
   "cell_type": "code",
   "execution_count": 215,
   "id": "239d0ce7",
   "metadata": {},
   "outputs": [
    {
     "data": {
      "text/plain": [
       "ShapiroResult(statistic=0.8974759578704834, pvalue=1.401298464324817e-45)"
      ]
     },
     "execution_count": 215,
     "metadata": {},
     "output_type": "execute_result"
    }
   ],
   "source": [
    "shapiro(df3)"
   ]
  },
  {
   "cell_type": "markdown",
   "id": "6c5e4e39",
   "metadata": {},
   "source": [
    "We reject null hypothesis as the pvalue[1 to the power of 45] is very less than 0.05.Hence,alterative hypothesis holds good, we prove that there is no relation between the overall rating and potential"
   ]
  },
  {
   "cell_type": "markdown",
   "id": "831f6880",
   "metadata": {},
   "source": [
    "# e)Does skill move have any effect in overall rating? Perform the graphical analysis and the statistical analysis."
   ]
  },
  {
   "cell_type": "markdown",
   "id": "845196e2",
   "metadata": {},
   "source": [
    "The null and alternative hypothesis is:\n",
    "H0: skill move have effect in overall rating\n",
    "Ha: skill move have not effect in overall rating"
   ]
  },
  {
   "cell_type": "code",
   "execution_count": 219,
   "id": "07f45e25",
   "metadata": {},
   "outputs": [],
   "source": [
    "G1 = df['Potential'][df['Skill Moves']==1]\n",
    "G2 = df['Potential'][df['Skill Moves']==2]\n",
    "G3 = df['Potential'][df['Skill Moves']==3]\n",
    "G4 = df['Potential'][df['Skill Moves']==4]\n",
    "G5 = df['Potential'][df['Skill Moves']==5]"
   ]
  },
  {
   "cell_type": "code",
   "execution_count": 223,
   "id": "42faa8be",
   "metadata": {},
   "outputs": [
    {
     "data": {
      "text/plain": [
       "KruskalResult(statistic=82.66550786888745, pvalue=4.7433980049988346e-17)"
      ]
     },
     "execution_count": 223,
     "metadata": {},
     "output_type": "execute_result"
    }
   ],
   "source": [
    "from scipy import stats\n",
    "stats.kruskal(G1,G2,G3,G4,G5)"
   ]
  },
  {
   "cell_type": "markdown",
   "id": "bb7bff11",
   "metadata": {},
   "source": [
    "We reject null hypothesis as the pvalue[4 to the power of 17] is very less than 0.05.Hence,alterative hypothesis holds good, we prove that skill move have not effect in overall rating"
   ]
  },
  {
   "cell_type": "markdown",
   "id": "68032d6d",
   "metadata": {},
   "source": [
    "# 2. Perform the following statistical analysis on the mobile network dataset given. The given data set contains information about the internet, calls, and messages of various network. Data Cleaning and basic EDA process needs to be performed. "
   ]
  },
  {
   "cell_type": "code",
   "execution_count": 4,
   "id": "15d38e12",
   "metadata": {},
   "outputs": [
    {
     "data": {
      "text/html": [
       "<div>\n",
       "<style scoped>\n",
       "    .dataframe tbody tr th:only-of-type {\n",
       "        vertical-align: middle;\n",
       "    }\n",
       "\n",
       "    .dataframe tbody tr th {\n",
       "        vertical-align: top;\n",
       "    }\n",
       "\n",
       "    .dataframe thead th {\n",
       "        text-align: right;\n",
       "    }\n",
       "</style>\n",
       "<table border=\"1\" class=\"dataframe\">\n",
       "  <thead>\n",
       "    <tr style=\"text-align: right;\">\n",
       "      <th></th>\n",
       "      <th>date</th>\n",
       "      <th>duration</th>\n",
       "      <th>item</th>\n",
       "      <th>month</th>\n",
       "      <th>network</th>\n",
       "      <th>network_type</th>\n",
       "    </tr>\n",
       "  </thead>\n",
       "  <tbody>\n",
       "    <tr>\n",
       "      <th>0</th>\n",
       "      <td>15-10-14 6:58</td>\n",
       "      <td>221.321120</td>\n",
       "      <td>data</td>\n",
       "      <td>2014-11</td>\n",
       "      <td>data</td>\n",
       "      <td>data</td>\n",
       "    </tr>\n",
       "    <tr>\n",
       "      <th>1</th>\n",
       "      <td>15-10-14 6:58</td>\n",
       "      <td>81.610599</td>\n",
       "      <td>call</td>\n",
       "      <td>2014-11</td>\n",
       "      <td>Vodafone</td>\n",
       "      <td>mobile</td>\n",
       "    </tr>\n",
       "    <tr>\n",
       "      <th>2</th>\n",
       "      <td>15-10-14 14:46</td>\n",
       "      <td>143.109111</td>\n",
       "      <td>call</td>\n",
       "      <td>2014-11</td>\n",
       "      <td>Meteor</td>\n",
       "      <td>mobile</td>\n",
       "    </tr>\n",
       "    <tr>\n",
       "      <th>3</th>\n",
       "      <td>15-10-14 14:48</td>\n",
       "      <td>111.888670</td>\n",
       "      <td>call</td>\n",
       "      <td>2014-11</td>\n",
       "      <td>Tesco</td>\n",
       "      <td>mobile</td>\n",
       "    </tr>\n",
       "    <tr>\n",
       "      <th>4</th>\n",
       "      <td>15-10-14 17:27</td>\n",
       "      <td>246.695171</td>\n",
       "      <td>call</td>\n",
       "      <td>2014-11</td>\n",
       "      <td>Tesco</td>\n",
       "      <td>mobile</td>\n",
       "    </tr>\n",
       "    <tr>\n",
       "      <th>...</th>\n",
       "      <td>...</td>\n",
       "      <td>...</td>\n",
       "      <td>...</td>\n",
       "      <td>...</td>\n",
       "      <td>...</td>\n",
       "      <td>...</td>\n",
       "    </tr>\n",
       "    <tr>\n",
       "      <th>815</th>\n",
       "      <td>10-03-15 6:58</td>\n",
       "      <td>185.328156</td>\n",
       "      <td>data</td>\n",
       "      <td>2015-03</td>\n",
       "      <td>data</td>\n",
       "      <td>data</td>\n",
       "    </tr>\n",
       "    <tr>\n",
       "      <th>816</th>\n",
       "      <td>11-03-15 6:58</td>\n",
       "      <td>89.819383</td>\n",
       "      <td>data</td>\n",
       "      <td>2015-03</td>\n",
       "      <td>data</td>\n",
       "      <td>data</td>\n",
       "    </tr>\n",
       "    <tr>\n",
       "      <th>817</th>\n",
       "      <td>12-03-15 6:58</td>\n",
       "      <td>117.604998</td>\n",
       "      <td>data</td>\n",
       "      <td>2015-03</td>\n",
       "      <td>data</td>\n",
       "      <td>data</td>\n",
       "    </tr>\n",
       "    <tr>\n",
       "      <th>818</th>\n",
       "      <td>13-03-15 0:39</td>\n",
       "      <td>77.834006</td>\n",
       "      <td>sms</td>\n",
       "      <td>2015-03</td>\n",
       "      <td>Vodafone</td>\n",
       "      <td>mobile</td>\n",
       "    </tr>\n",
       "    <tr>\n",
       "      <th>819</th>\n",
       "      <td>13-03-15 6:58</td>\n",
       "      <td>146.000584</td>\n",
       "      <td>data</td>\n",
       "      <td>2015-03</td>\n",
       "      <td>data</td>\n",
       "      <td>data</td>\n",
       "    </tr>\n",
       "  </tbody>\n",
       "</table>\n",
       "<p>820 rows × 6 columns</p>\n",
       "</div>"
      ],
      "text/plain": [
       "               date    duration  item    month   network network_type\n",
       "0     15-10-14 6:58  221.321120  data  2014-11      data         data\n",
       "1     15-10-14 6:58   81.610599  call  2014-11  Vodafone       mobile\n",
       "2    15-10-14 14:46  143.109111  call  2014-11    Meteor       mobile\n",
       "3    15-10-14 14:48  111.888670  call  2014-11     Tesco       mobile\n",
       "4    15-10-14 17:27  246.695171  call  2014-11     Tesco       mobile\n",
       "..              ...         ...   ...      ...       ...          ...\n",
       "815   10-03-15 6:58  185.328156  data  2015-03      data         data\n",
       "816   11-03-15 6:58   89.819383  data  2015-03      data         data\n",
       "817   12-03-15 6:58  117.604998  data  2015-03      data         data\n",
       "818   13-03-15 0:39   77.834006   sms  2015-03  Vodafone       mobile\n",
       "819   13-03-15 6:58  146.000584  data  2015-03      data         data\n",
       "\n",
       "[820 rows x 6 columns]"
      ]
     },
     "execution_count": 4,
     "metadata": {},
     "output_type": "execute_result"
    }
   ],
   "source": [
    "m=pd.read_csv('phone.csv')\n",
    "m"
   ]
  },
  {
   "cell_type": "code",
   "execution_count": 225,
   "id": "d009cdf4",
   "metadata": {},
   "outputs": [
    {
     "data": {
      "text/plain": [
       "date            0\n",
       "duration        0\n",
       "item            0\n",
       "month           0\n",
       "network         0\n",
       "network_type    0\n",
       "dtype: int64"
      ]
     },
     "execution_count": 225,
     "metadata": {},
     "output_type": "execute_result"
    }
   ],
   "source": [
    "m.isnull().sum()"
   ]
  },
  {
   "cell_type": "code",
   "execution_count": 232,
   "id": "4a6aaa37",
   "metadata": {},
   "outputs": [
    {
     "data": {
      "text/html": [
       "<div>\n",
       "<style scoped>\n",
       "    .dataframe tbody tr th:only-of-type {\n",
       "        vertical-align: middle;\n",
       "    }\n",
       "\n",
       "    .dataframe tbody tr th {\n",
       "        vertical-align: top;\n",
       "    }\n",
       "\n",
       "    .dataframe thead th {\n",
       "        text-align: right;\n",
       "    }\n",
       "</style>\n",
       "<table border=\"1\" class=\"dataframe\">\n",
       "  <thead>\n",
       "    <tr style=\"text-align: right;\">\n",
       "      <th></th>\n",
       "      <th>duration</th>\n",
       "    </tr>\n",
       "  </thead>\n",
       "  <tbody>\n",
       "    <tr>\n",
       "      <th>count</th>\n",
       "      <td>820.000000</td>\n",
       "    </tr>\n",
       "    <tr>\n",
       "      <th>mean</th>\n",
       "      <td>144.304936</td>\n",
       "    </tr>\n",
       "    <tr>\n",
       "      <th>std</th>\n",
       "      <td>45.687777</td>\n",
       "    </tr>\n",
       "    <tr>\n",
       "      <th>min</th>\n",
       "      <td>0.993514</td>\n",
       "    </tr>\n",
       "    <tr>\n",
       "      <th>25%</th>\n",
       "      <td>112.916486</td>\n",
       "    </tr>\n",
       "    <tr>\n",
       "      <th>50%</th>\n",
       "      <td>144.179434</td>\n",
       "    </tr>\n",
       "    <tr>\n",
       "      <th>75%</th>\n",
       "      <td>175.932308</td>\n",
       "    </tr>\n",
       "    <tr>\n",
       "      <th>max</th>\n",
       "      <td>268.458090</td>\n",
       "    </tr>\n",
       "  </tbody>\n",
       "</table>\n",
       "</div>"
      ],
      "text/plain": [
       "         duration\n",
       "count  820.000000\n",
       "mean   144.304936\n",
       "std     45.687777\n",
       "min      0.993514\n",
       "25%    112.916486\n",
       "50%    144.179434\n",
       "75%    175.932308\n",
       "max    268.458090"
      ]
     },
     "execution_count": 232,
     "metadata": {},
     "output_type": "execute_result"
    }
   ],
   "source": [
    "m.describe()"
   ]
  },
  {
   "cell_type": "markdown",
   "id": "bb42d794",
   "metadata": {},
   "source": [
    "# a) With 95% & 99% Confidence Interval, find the range estimate of average duration calls made by the entire network. Which of the Intervals are wider? Interpret the results."
   ]
  },
  {
   "cell_type": "code",
   "execution_count": 226,
   "id": "6d4c9ac7",
   "metadata": {},
   "outputs": [
    {
     "data": {
      "text/plain": [
       "0      221.321120\n",
       "1       81.610599\n",
       "2      143.109111\n",
       "3      111.888670\n",
       "4      246.695171\n",
       "          ...    \n",
       "815    185.328156\n",
       "816     89.819383\n",
       "817    117.604998\n",
       "818     77.834006\n",
       "819    146.000584\n",
       "Name: duration, Length: 820, dtype: float64"
      ]
     },
     "execution_count": 226,
     "metadata": {},
     "output_type": "execute_result"
    }
   ],
   "source": [
    "dur_calls=m['duration']\n",
    "dur_calls"
   ]
  },
  {
   "cell_type": "code",
   "execution_count": 241,
   "id": "7c0a1437",
   "metadata": {},
   "outputs": [],
   "source": [
    "samp=[]# From the total population pull only 200 random samples from the fifa.csv\n",
    "for i in np.arange(200):\n",
    "    samp.append(random.choice(dur_calls))"
   ]
  },
  {
   "cell_type": "code",
   "execution_count": 229,
   "id": "98816e13",
   "metadata": {},
   "outputs": [
    {
     "data": {
      "text/plain": [
       "200"
      ]
     },
     "execution_count": 229,
     "metadata": {},
     "output_type": "execute_result"
    }
   ],
   "source": [
    "len(samp)"
   ]
  },
  {
   "cell_type": "code",
   "execution_count": 242,
   "id": "40a176ef",
   "metadata": {},
   "outputs": [
    {
     "data": {
      "image/png": "[encoded data removed]",
      "text/plain": [
       "<Figure size 432x288 with 1 Axes>"
      ]
     },
     "metadata": {
      "needs_background": "light"
     },
     "output_type": "display_data"
    }
   ],
   "source": [
    "sns.kdeplot(samp)\n",
    "plt.show()"
   ]
  },
  {
   "cell_type": "code",
   "execution_count": 243,
   "id": "45d9109d",
   "metadata": {},
   "outputs": [
    {
     "data": {
      "text/plain": [
       "0    0.007191\n",
       "dtype: float64"
      ]
     },
     "execution_count": 243,
     "metadata": {},
     "output_type": "execute_result"
    }
   ],
   "source": [
    "pd.DataFrame(samp).skew()#Left skewed"
   ]
  },
  {
   "cell_type": "code",
   "execution_count": 244,
   "id": "711b5d43",
   "metadata": {},
   "outputs": [
    {
     "data": {
      "text/plain": [
       "(143.42408482355, 44.75874278368288)"
      ]
     },
     "execution_count": 244,
     "metadata": {},
     "output_type": "execute_result"
    }
   ],
   "source": [
    "np.mean(samp),np.std(samp,ddof=1)# the mean and std of the 200 samples"
   ]
  },
  {
   "cell_type": "code",
   "execution_count": 245,
   "id": "5d7fe6ea",
   "metadata": {},
   "outputs": [
    {
     "data": {
      "text/plain": [
       "3.164921053972661"
      ]
     },
     "execution_count": 245,
     "metadata": {},
     "output_type": "execute_result"
    }
   ],
   "source": [
    "se=44.75874278368288/np.sqrt(200)#Standard error of the 200samples\n",
    "se"
   ]
  },
  {
   "cell_type": "code",
   "execution_count": 246,
   "id": "fe999886",
   "metadata": {},
   "outputs": [
    {
     "data": {
      "text/plain": [
       "[137.22083955776358, 149.62733008933643]"
      ]
     },
     "execution_count": 246,
     "metadata": {},
     "output_type": "execute_result"
    }
   ],
   "source": [
    "[143.42408482355-1.96*3.164921053972661,143.42408482355+1.96*3.164921053972661]#Calculate for 95% CI range"
   ]
  },
  {
   "cell_type": "markdown",
   "id": "f49f6592",
   "metadata": {},
   "source": [
    "The range estimate of average duration calls made by the entire network lies between 137 to 149 with 95% confidence interval."
   ]
  },
  {
   "cell_type": "markdown",
   "id": "89f8f81d",
   "metadata": {},
   "source": [
    "# 99% confidence interval"
   ]
  },
  {
   "cell_type": "code",
   "execution_count": 247,
   "id": "d25befd6",
   "metadata": {},
   "outputs": [
    {
     "data": {
      "text/plain": [
       "[135.25858850430055, 151.58958114279946]"
      ]
     },
     "execution_count": 247,
     "metadata": {},
     "output_type": "execute_result"
    }
   ],
   "source": [
    "[143.42408482355-2.58*3.164921053972661,143.42408482355+2.58*3.164921053972661]"
   ]
  },
  {
   "cell_type": "code",
   "execution_count": null,
   "id": "bdbfd5b4",
   "metadata": {},
   "outputs": [],
   "source": [
    "The range estimate of average duration calls made by the entire network lies between 135 to 151 with 99% confidence interval."
   ]
  },
  {
   "cell_type": "markdown",
   "id": "e65c9c12",
   "metadata": {},
   "source": [
    "# b) Perform statistical analysis to check whether the networks are equally distributed in the dataset."
   ]
  },
  {
   "cell_type": "markdown",
   "id": "3123e9d0",
   "metadata": {},
   "source": [
    "Ho: Observed = Expected (Networks are equally distributed)\n",
    "Ha : Observed ≠ Expected (Networks are not equally distributed)"
   ]
  },
  {
   "cell_type": "markdown",
   "id": "79966a57",
   "metadata": {},
   "source": [
    "Ho: Observed = Expected (Networks are equally distributed)\n",
    "Ha : Observed ≠ Expected (Networks are not equally distributed)"
   ]
  },
  {
   "cell_type": "code",
   "execution_count": 20,
   "id": "50719838",
   "metadata": {},
   "outputs": [
    {
     "data": {
      "text/plain": [
       "Vodafone     215\n",
       "Three        215\n",
       "data         150\n",
       "Meteor        87\n",
       "Tesco         84\n",
       "landline      42\n",
       "voicemail     27\n",
       "Name: network, dtype: int64"
      ]
     },
     "execution_count": 20,
     "metadata": {},
     "output_type": "execute_result"
    }
   ],
   "source": [
    "sd=m['network']\n",
    "sd.value_counts()"
   ]
  },
  {
   "cell_type": "code",
   "execution_count": 39,
   "id": "98e03098",
   "metadata": {},
   "outputs": [
    {
     "data": {
      "text/plain": [
       "117.14285714285714"
      ]
     },
     "execution_count": 39,
     "metadata": {},
     "output_type": "execute_result"
    }
   ],
   "source": [
    "820/7"
   ]
  },
  {
   "cell_type": "code",
   "execution_count": 40,
   "id": "b49c0325",
   "metadata": {},
   "outputs": [
    {
     "data": {
      "text/plain": [
       "Power_divergenceResult(statistic=307.409756097561, pvalue=2.112592760257685e-63)"
      ]
     },
     "execution_count": 40,
     "metadata": {},
     "output_type": "execute_result"
    }
   ],
   "source": [
    "chisquare([215,215,150,87,84,42,27],[117.14285714285714,117.14285714285714,117.14285714285714,117.14285714285714,117.14285714285714,117.14285714285714,117.14285714285714])"
   ]
  },
  {
   "cell_type": "markdown",
   "id": "10935345",
   "metadata": {},
   "source": [
    "The corresponding p_value is 0.000002(2 to the power of 63).\n",
    "Hence we reject null hypothesis.\n",
    "Networks are not equally distributed."
   ]
  },
  {
   "cell_type": "markdown",
   "id": "e6af5fad",
   "metadata": {},
   "source": [
    "# c) Plot the distribution of duration with respect to each network in the same graph and interpret the results from the graph."
   ]
  },
  {
   "cell_type": "code",
   "execution_count": 421,
   "id": "5c5346ee",
   "metadata": {},
   "outputs": [],
   "source": [
    "g=m[['network','duration']]"
   ]
  },
  {
   "cell_type": "code",
   "execution_count": 397,
   "id": "af8c8373",
   "metadata": {},
   "outputs": [
    {
     "data": {
      "image/png": "[encoded data removed]",
      "text/plain": [
       "<Figure size 432x288 with 1 Axes>"
      ]
     },
     "metadata": {
      "needs_background": "light"
     },
     "output_type": "display_data"
    }
   ],
   "source": [
    "sns.kdeplot(g['duration'],hue=g['network'])\n",
    "plt.show()"
   ]
  },
  {
   "cell_type": "markdown",
   "id": "b7cd4c0f",
   "metadata": {},
   "source": [
    "# d)\tPerform statistical tests to identify the relation between item and duration. Detailed explanation of relation between the classes is required"
   ]
  },
  {
   "cell_type": "markdown",
   "id": "ee613d13",
   "metadata": {},
   "source": [
    "The null and alternative hypothesis is:\n",
    "H0: m1=m2=m3#relation\n",
    "Ha: NOT EQUAL#no relation"
   ]
  },
  {
   "cell_type": "code",
   "execution_count": 346,
   "id": "1b68757f",
   "metadata": {},
   "outputs": [
    {
     "data": {
      "text/html": [
       "<div>\n",
       "<style scoped>\n",
       "    .dataframe tbody tr th:only-of-type {\n",
       "        vertical-align: middle;\n",
       "    }\n",
       "\n",
       "    .dataframe tbody tr th {\n",
       "        vertical-align: top;\n",
       "    }\n",
       "\n",
       "    .dataframe thead th {\n",
       "        text-align: right;\n",
       "    }\n",
       "</style>\n",
       "<table border=\"1\" class=\"dataframe\">\n",
       "  <thead>\n",
       "    <tr style=\"text-align: right;\">\n",
       "      <th></th>\n",
       "      <th>duration</th>\n",
       "      <th>item</th>\n",
       "    </tr>\n",
       "  </thead>\n",
       "  <tbody>\n",
       "    <tr>\n",
       "      <th>0</th>\n",
       "      <td>221.321120</td>\n",
       "      <td>data</td>\n",
       "    </tr>\n",
       "    <tr>\n",
       "      <th>1</th>\n",
       "      <td>81.610599</td>\n",
       "      <td>call</td>\n",
       "    </tr>\n",
       "    <tr>\n",
       "      <th>2</th>\n",
       "      <td>143.109111</td>\n",
       "      <td>call</td>\n",
       "    </tr>\n",
       "    <tr>\n",
       "      <th>3</th>\n",
       "      <td>111.888670</td>\n",
       "      <td>call</td>\n",
       "    </tr>\n",
       "    <tr>\n",
       "      <th>4</th>\n",
       "      <td>246.695171</td>\n",
       "      <td>call</td>\n",
       "    </tr>\n",
       "    <tr>\n",
       "      <th>...</th>\n",
       "      <td>...</td>\n",
       "      <td>...</td>\n",
       "    </tr>\n",
       "    <tr>\n",
       "      <th>815</th>\n",
       "      <td>185.328156</td>\n",
       "      <td>data</td>\n",
       "    </tr>\n",
       "    <tr>\n",
       "      <th>816</th>\n",
       "      <td>89.819383</td>\n",
       "      <td>data</td>\n",
       "    </tr>\n",
       "    <tr>\n",
       "      <th>817</th>\n",
       "      <td>117.604998</td>\n",
       "      <td>data</td>\n",
       "    </tr>\n",
       "    <tr>\n",
       "      <th>818</th>\n",
       "      <td>77.834006</td>\n",
       "      <td>sms</td>\n",
       "    </tr>\n",
       "    <tr>\n",
       "      <th>819</th>\n",
       "      <td>146.000584</td>\n",
       "      <td>data</td>\n",
       "    </tr>\n",
       "  </tbody>\n",
       "</table>\n",
       "<p>820 rows × 2 columns</p>\n",
       "</div>"
      ],
      "text/plain": [
       "       duration  item\n",
       "0    221.321120  data\n",
       "1     81.610599  call\n",
       "2    143.109111  call\n",
       "3    111.888670  call\n",
       "4    246.695171  call\n",
       "..          ...   ...\n",
       "815  185.328156  data\n",
       "816   89.819383  data\n",
       "817  117.604998  data\n",
       "818   77.834006   sms\n",
       "819  146.000584  data\n",
       "\n",
       "[820 rows x 2 columns]"
      ]
     },
     "execution_count": 346,
     "metadata": {},
     "output_type": "execute_result"
    }
   ],
   "source": [
    "rel=m[['duration','item']]\n",
    "rel"
   ]
  },
  {
   "cell_type": "code",
   "execution_count": 347,
   "id": "0810b798",
   "metadata": {},
   "outputs": [],
   "source": [
    "m1 = m['duration'][m['item']=='data']\n",
    "m2 = m['duration'][m['item']=='call']\n",
    "m3= m['duration'][m['item']=='sms']"
   ]
  },
  {
   "cell_type": "code",
   "execution_count": 350,
   "id": "d551c66b",
   "metadata": {},
   "outputs": [
    {
     "data": {
      "text/plain": [
       "F_onewayResult(statistic=1.9313964906864995, pvalue=0.1456068656611744)"
      ]
     },
     "execution_count": 350,
     "metadata": {},
     "output_type": "execute_result"
    }
   ],
   "source": [
    "f_oneway(m1,m2,m3)"
   ]
  },
  {
   "cell_type": "markdown",
   "id": "39cb911b",
   "metadata": {},
   "source": [
    "The corresponding pvalue is 0.14.\n",
    "since the pvalue is not less than 0.05,we reject the null hypothesis.\n",
    "This means we dont have the relation between item and duration."
   ]
  },
  {
   "cell_type": "markdown",
   "id": "44ed784f",
   "metadata": {},
   "source": [
    "# e)\tPerform statistical tests to identify the relation between network and network_type. "
   ]
  },
  {
   "cell_type": "markdown",
   "id": "d49a369e",
   "metadata": {},
   "source": [
    "Ho: Observed = Expected (Network and Network_type are not related)\n",
    "Ha : Observed ≠ Expected (Network and Network_type are related)"
   ]
  },
  {
   "cell_type": "code",
   "execution_count": 400,
   "id": "83f34393",
   "metadata": {},
   "outputs": [],
   "source": [
    "net=m[['network','network_type']]"
   ]
  },
  {
   "cell_type": "code",
   "execution_count": 411,
   "id": "8f5d159e",
   "metadata": {},
   "outputs": [
    {
     "data": {
      "text/html": [
       "<div>\n",
       "<style scoped>\n",
       "    .dataframe tbody tr th:only-of-type {\n",
       "        vertical-align: middle;\n",
       "    }\n",
       "\n",
       "    .dataframe tbody tr th {\n",
       "        vertical-align: top;\n",
       "    }\n",
       "\n",
       "    .dataframe thead th {\n",
       "        text-align: right;\n",
       "    }\n",
       "</style>\n",
       "<table border=\"1\" class=\"dataframe\">\n",
       "  <thead>\n",
       "    <tr style=\"text-align: right;\">\n",
       "      <th>network_type</th>\n",
       "      <th>data</th>\n",
       "      <th>landline</th>\n",
       "      <th>mobile</th>\n",
       "      <th>voicemail</th>\n",
       "    </tr>\n",
       "    <tr>\n",
       "      <th>network</th>\n",
       "      <th></th>\n",
       "      <th></th>\n",
       "      <th></th>\n",
       "      <th></th>\n",
       "    </tr>\n",
       "  </thead>\n",
       "  <tbody>\n",
       "    <tr>\n",
       "      <th>Meteor</th>\n",
       "      <td>0</td>\n",
       "      <td>0</td>\n",
       "      <td>87</td>\n",
       "      <td>0</td>\n",
       "    </tr>\n",
       "    <tr>\n",
       "      <th>Tesco</th>\n",
       "      <td>0</td>\n",
       "      <td>0</td>\n",
       "      <td>84</td>\n",
       "      <td>0</td>\n",
       "    </tr>\n",
       "    <tr>\n",
       "      <th>Three</th>\n",
       "      <td>0</td>\n",
       "      <td>0</td>\n",
       "      <td>215</td>\n",
       "      <td>0</td>\n",
       "    </tr>\n",
       "    <tr>\n",
       "      <th>Vodafone</th>\n",
       "      <td>0</td>\n",
       "      <td>0</td>\n",
       "      <td>215</td>\n",
       "      <td>0</td>\n",
       "    </tr>\n",
       "    <tr>\n",
       "      <th>data</th>\n",
       "      <td>150</td>\n",
       "      <td>0</td>\n",
       "      <td>0</td>\n",
       "      <td>0</td>\n",
       "    </tr>\n",
       "    <tr>\n",
       "      <th>landline</th>\n",
       "      <td>0</td>\n",
       "      <td>42</td>\n",
       "      <td>0</td>\n",
       "      <td>0</td>\n",
       "    </tr>\n",
       "    <tr>\n",
       "      <th>voicemail</th>\n",
       "      <td>0</td>\n",
       "      <td>0</td>\n",
       "      <td>0</td>\n",
       "      <td>27</td>\n",
       "    </tr>\n",
       "  </tbody>\n",
       "</table>\n",
       "</div>"
      ],
      "text/plain": [
       "network_type  data  landline  mobile  voicemail\n",
       "network                                        \n",
       "Meteor           0         0      87          0\n",
       "Tesco            0         0      84          0\n",
       "Three            0         0     215          0\n",
       "Vodafone         0         0     215          0\n",
       "data           150         0       0          0\n",
       "landline         0        42       0          0\n",
       "voicemail        0         0       0         27"
      ]
     },
     "execution_count": 411,
     "metadata": {},
     "output_type": "execute_result"
    }
   ],
   "source": [
    "ct=pd.crosstab(net['network'],net['network_type'])\n",
    "ct"
   ]
  },
  {
   "cell_type": "code",
   "execution_count": 413,
   "id": "599e30aa",
   "metadata": {
    "scrolled": true
   },
   "outputs": [
    {
     "name": "stdout",
     "output_type": "stream",
     "text": [
      "2460.0\n",
      "0.0\n",
      "[[ 15.91463415   4.45609756  63.76463415   2.86463415]\n",
      " [ 15.36585366   4.30243902  61.56585366   2.76585366]\n",
      " [ 39.32926829  11.01219512 157.57926829   7.07926829]\n",
      " [ 39.32926829  11.01219512 157.57926829   7.07926829]\n",
      " [ 27.43902439   7.68292683 109.93902439   4.93902439]\n",
      " [  7.68292683   2.15121951  30.78292683   1.38292683]\n",
      " [  4.93902439   1.38292683  19.78902439   0.88902439]]\n"
     ]
    }
   ],
   "source": [
    "[chi,p_value,df,ec]=chi2_contingency(ct)\n",
    "print(chi)\n",
    "print(p_value)\n",
    "print(ec)"
   ]
  },
  {
   "cell_type": "markdown",
   "id": "6c161a9f",
   "metadata": {},
   "source": [
    "The corresponding p_value is 0.0.\n",
    "Hence we accept null hypothesis.\n",
    "Network and Network_type are not related"
   ]
  }
 ],
 "metadata": {
  "kernelspec": {
   "display_name": "Python 3 (ipykernel)",
   "language": "python",
   "name": "python3"
  },
  "language_info": {
   "codemirror_mode": {
    "name": "ipython",
    "version": 3
   },
   "file_extension": ".py",
   "mimetype": "text/x-python",
   "name": "python",
   "nbconvert_exporter": "python",
   "pygments_lexer": "ipython3",
   "version": "3.9.7"
  }
 },
 "nbformat": 4,
 "nbformat_minor": 5
}
